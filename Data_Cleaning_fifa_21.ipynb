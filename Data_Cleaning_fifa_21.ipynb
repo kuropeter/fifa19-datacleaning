{
 "cells": [
  {
   "cell_type": "markdown",
   "metadata": {},
   "source": [
    "# Project Title: Data Cleaning of Fifa 21 Dataset\n",
    "# Date: March 24, 2023\n",
    "# Author: Kuro Peter Doumu"
   ]
  },
  {
   "cell_type": "markdown",
   "metadata": {},
   "source": [
    "## Introduction\n",
    "\n",
    "This notebook contains cleaning up of a dataset in order to prepare it for further analysis. The purpose of this cleaning is to enable the dataset to have properly formatted columns, no input errors and clear and distinct column names. The dataset includes information about players and their main attributes."
   ]
  },
  {
   "cell_type": "markdown",
   "metadata": {},
   "source": [
    "## Data Source\n",
    "\n",
    "The data for this project was provided by <a href=\"https://twitter.com/PromiseNonso_\">@PromiseNonso_</a> and <a href=\"https://twitter.com/DataChallengeSp?t=CuCOJFQy2EjDeRDFz2D-Yw&s=09\">@DataChallengeSp</a> as part of their March data challenge(obtained from kaggle), where it was downloaded and saved locally as a CSV file called \"fifa21 raw data v2.csv\"."
   ]
  },
  {
   "cell_type": "markdown",
   "metadata": {},
   "source": [
    "#### Importing Libraries and Data"
   ]
  },
  {
   "cell_type": "code",
   "execution_count": 24,
   "metadata": {},
   "outputs": [],
   "source": [
    "import pandas as pd\n",
    "import numpy as np"
   ]
  },
  {
   "cell_type": "code",
   "execution_count": 25,
   "metadata": {},
   "outputs": [],
   "source": [
    "path = r\"C:\\Users\\KSD\\Documents\\archive\\fifa21 raw data v2.csv\"\n",
    "df = pd.read_csv(path, low_memory=False)"
   ]
  },
  {
   "cell_type": "code",
   "execution_count": 26,
   "metadata": {},
   "outputs": [
    {
     "data": {
      "text/html": [
       "<div>\n",
       "<style scoped>\n",
       "    .dataframe tbody tr th:only-of-type {\n",
       "        vertical-align: middle;\n",
       "    }\n",
       "\n",
       "    .dataframe tbody tr th {\n",
       "        vertical-align: top;\n",
       "    }\n",
       "\n",
       "    .dataframe thead th {\n",
       "        text-align: right;\n",
       "    }\n",
       "</style>\n",
       "<table border=\"1\" class=\"dataframe\">\n",
       "  <thead>\n",
       "    <tr style=\"text-align: right;\">\n",
       "      <th></th>\n",
       "      <th>ID</th>\n",
       "      <th>Name</th>\n",
       "      <th>LongName</th>\n",
       "      <th>photoUrl</th>\n",
       "      <th>playerUrl</th>\n",
       "      <th>Nationality</th>\n",
       "      <th>Age</th>\n",
       "      <th>↓OVA</th>\n",
       "      <th>POT</th>\n",
       "      <th>Club</th>\n",
       "      <th>...</th>\n",
       "      <th>A/W</th>\n",
       "      <th>D/W</th>\n",
       "      <th>IR</th>\n",
       "      <th>PAC</th>\n",
       "      <th>SHO</th>\n",
       "      <th>PAS</th>\n",
       "      <th>DRI</th>\n",
       "      <th>DEF</th>\n",
       "      <th>PHY</th>\n",
       "      <th>Hits</th>\n",
       "    </tr>\n",
       "  </thead>\n",
       "  <tbody>\n",
       "    <tr>\n",
       "      <th>0</th>\n",
       "      <td>158023</td>\n",
       "      <td>L. Messi</td>\n",
       "      <td>Lionel Messi</td>\n",
       "      <td>https://cdn.sofifa.com/players/158/023/21_60.png</td>\n",
       "      <td>http://sofifa.com/player/158023/lionel-messi/2...</td>\n",
       "      <td>Argentina</td>\n",
       "      <td>33</td>\n",
       "      <td>93</td>\n",
       "      <td>93</td>\n",
       "      <td>\\n\\n\\n\\nFC Barcelona</td>\n",
       "      <td>...</td>\n",
       "      <td>Medium</td>\n",
       "      <td>Low</td>\n",
       "      <td>5 ★</td>\n",
       "      <td>85</td>\n",
       "      <td>92</td>\n",
       "      <td>91</td>\n",
       "      <td>95</td>\n",
       "      <td>38</td>\n",
       "      <td>65</td>\n",
       "      <td>771</td>\n",
       "    </tr>\n",
       "    <tr>\n",
       "      <th>1</th>\n",
       "      <td>20801</td>\n",
       "      <td>Cristiano Ronaldo</td>\n",
       "      <td>C. Ronaldo dos Santos Aveiro</td>\n",
       "      <td>https://cdn.sofifa.com/players/020/801/21_60.png</td>\n",
       "      <td>http://sofifa.com/player/20801/c-ronaldo-dos-s...</td>\n",
       "      <td>Portugal</td>\n",
       "      <td>35</td>\n",
       "      <td>92</td>\n",
       "      <td>92</td>\n",
       "      <td>\\n\\n\\n\\nJuventus</td>\n",
       "      <td>...</td>\n",
       "      <td>High</td>\n",
       "      <td>Low</td>\n",
       "      <td>5 ★</td>\n",
       "      <td>89</td>\n",
       "      <td>93</td>\n",
       "      <td>81</td>\n",
       "      <td>89</td>\n",
       "      <td>35</td>\n",
       "      <td>77</td>\n",
       "      <td>562</td>\n",
       "    </tr>\n",
       "    <tr>\n",
       "      <th>2</th>\n",
       "      <td>200389</td>\n",
       "      <td>J. Oblak</td>\n",
       "      <td>Jan Oblak</td>\n",
       "      <td>https://cdn.sofifa.com/players/200/389/21_60.png</td>\n",
       "      <td>http://sofifa.com/player/200389/jan-oblak/210006/</td>\n",
       "      <td>Slovenia</td>\n",
       "      <td>27</td>\n",
       "      <td>91</td>\n",
       "      <td>93</td>\n",
       "      <td>\\n\\n\\n\\nAtlético Madrid</td>\n",
       "      <td>...</td>\n",
       "      <td>Medium</td>\n",
       "      <td>Medium</td>\n",
       "      <td>3 ★</td>\n",
       "      <td>87</td>\n",
       "      <td>92</td>\n",
       "      <td>78</td>\n",
       "      <td>90</td>\n",
       "      <td>52</td>\n",
       "      <td>90</td>\n",
       "      <td>150</td>\n",
       "    </tr>\n",
       "    <tr>\n",
       "      <th>3</th>\n",
       "      <td>192985</td>\n",
       "      <td>K. De Bruyne</td>\n",
       "      <td>Kevin De Bruyne</td>\n",
       "      <td>https://cdn.sofifa.com/players/192/985/21_60.png</td>\n",
       "      <td>http://sofifa.com/player/192985/kevin-de-bruyn...</td>\n",
       "      <td>Belgium</td>\n",
       "      <td>29</td>\n",
       "      <td>91</td>\n",
       "      <td>91</td>\n",
       "      <td>\\n\\n\\n\\nManchester City</td>\n",
       "      <td>...</td>\n",
       "      <td>High</td>\n",
       "      <td>High</td>\n",
       "      <td>4 ★</td>\n",
       "      <td>76</td>\n",
       "      <td>86</td>\n",
       "      <td>93</td>\n",
       "      <td>88</td>\n",
       "      <td>64</td>\n",
       "      <td>78</td>\n",
       "      <td>207</td>\n",
       "    </tr>\n",
       "    <tr>\n",
       "      <th>4</th>\n",
       "      <td>190871</td>\n",
       "      <td>Neymar Jr</td>\n",
       "      <td>Neymar da Silva Santos Jr.</td>\n",
       "      <td>https://cdn.sofifa.com/players/190/871/21_60.png</td>\n",
       "      <td>http://sofifa.com/player/190871/neymar-da-silv...</td>\n",
       "      <td>Brazil</td>\n",
       "      <td>28</td>\n",
       "      <td>91</td>\n",
       "      <td>91</td>\n",
       "      <td>\\n\\n\\n\\nParis Saint-Germain</td>\n",
       "      <td>...</td>\n",
       "      <td>High</td>\n",
       "      <td>Medium</td>\n",
       "      <td>5 ★</td>\n",
       "      <td>91</td>\n",
       "      <td>85</td>\n",
       "      <td>86</td>\n",
       "      <td>94</td>\n",
       "      <td>36</td>\n",
       "      <td>59</td>\n",
       "      <td>595</td>\n",
       "    </tr>\n",
       "  </tbody>\n",
       "</table>\n",
       "<p>5 rows × 77 columns</p>\n",
       "</div>"
      ],
      "text/plain": [
       "       ID               Name                      LongName  \\\n",
       "0  158023           L. Messi                  Lionel Messi   \n",
       "1   20801  Cristiano Ronaldo  C. Ronaldo dos Santos Aveiro   \n",
       "2  200389           J. Oblak                     Jan Oblak   \n",
       "3  192985       K. De Bruyne               Kevin De Bruyne   \n",
       "4  190871          Neymar Jr    Neymar da Silva Santos Jr.   \n",
       "\n",
       "                                           photoUrl  \\\n",
       "0  https://cdn.sofifa.com/players/158/023/21_60.png   \n",
       "1  https://cdn.sofifa.com/players/020/801/21_60.png   \n",
       "2  https://cdn.sofifa.com/players/200/389/21_60.png   \n",
       "3  https://cdn.sofifa.com/players/192/985/21_60.png   \n",
       "4  https://cdn.sofifa.com/players/190/871/21_60.png   \n",
       "\n",
       "                                           playerUrl Nationality  Age  ↓OVA  \\\n",
       "0  http://sofifa.com/player/158023/lionel-messi/2...   Argentina   33    93   \n",
       "1  http://sofifa.com/player/20801/c-ronaldo-dos-s...    Portugal   35    92   \n",
       "2  http://sofifa.com/player/200389/jan-oblak/210006/    Slovenia   27    91   \n",
       "3  http://sofifa.com/player/192985/kevin-de-bruyn...     Belgium   29    91   \n",
       "4  http://sofifa.com/player/190871/neymar-da-silv...      Brazil   28    91   \n",
       "\n",
       "   POT                         Club  ...     A/W     D/W   IR PAC SHO  PAS  \\\n",
       "0   93         \\n\\n\\n\\nFC Barcelona  ...  Medium     Low  5 ★  85  92   91   \n",
       "1   92             \\n\\n\\n\\nJuventus  ...    High     Low  5 ★  89  93   81   \n",
       "2   93      \\n\\n\\n\\nAtlético Madrid  ...  Medium  Medium  3 ★  87  92   78   \n",
       "3   91      \\n\\n\\n\\nManchester City  ...    High    High  4 ★  76  86   93   \n",
       "4   91  \\n\\n\\n\\nParis Saint-Germain  ...    High  Medium  5 ★  91  85   86   \n",
       "\n",
       "  DRI DEF PHY Hits  \n",
       "0  95  38  65  771  \n",
       "1  89  35  77  562  \n",
       "2  90  52  90  150  \n",
       "3  88  64  78  207  \n",
       "4  94  36  59  595  \n",
       "\n",
       "[5 rows x 77 columns]"
      ]
     },
     "execution_count": 26,
     "metadata": {},
     "output_type": "execute_result"
    }
   ],
   "source": [
    "df.head()"
   ]
  },
  {
   "cell_type": "code",
   "execution_count": 27,
   "metadata": {},
   "outputs": [
    {
     "data": {
      "text/plain": [
       "Index(['ID', 'Name', 'LongName', 'photoUrl', 'playerUrl', 'Nationality', 'Age',\n",
       "       '↓OVA', 'POT', 'Club', 'Contract', 'Positions', 'Height', 'Weight',\n",
       "       'Preferred Foot', 'BOV', 'Best Position', 'Joined', 'Loan Date End',\n",
       "       'Value', 'Wage', 'Release Clause', 'Attacking', 'Crossing', 'Finishing',\n",
       "       'Heading Accuracy', 'Short Passing', 'Volleys', 'Skill', 'Dribbling',\n",
       "       'Curve', 'FK Accuracy', 'Long Passing', 'Ball Control', 'Movement',\n",
       "       'Acceleration', 'Sprint Speed', 'Agility', 'Reactions', 'Balance',\n",
       "       'Power', 'Shot Power', 'Jumping', 'Stamina', 'Strength', 'Long Shots',\n",
       "       'Mentality', 'Aggression', 'Interceptions', 'Positioning', 'Vision',\n",
       "       'Penalties', 'Composure', 'Defending', 'Marking', 'Standing Tackle',\n",
       "       'Sliding Tackle', 'Goalkeeping', 'GK Diving', 'GK Handling',\n",
       "       'GK Kicking', 'GK Positioning', 'GK Reflexes', 'Total Stats',\n",
       "       'Base Stats', 'W/F', 'SM', 'A/W', 'D/W', 'IR', 'PAC', 'SHO', 'PAS',\n",
       "       'DRI', 'DEF', 'PHY', 'Hits'],\n",
       "      dtype='object')"
      ]
     },
     "execution_count": 27,
     "metadata": {},
     "output_type": "execute_result"
    }
   ],
   "source": [
    "df.columns"
   ]
  },
  {
   "cell_type": "markdown",
   "metadata": {},
   "source": [
    "##### Renaming Columns "
   ]
  },
  {
   "cell_type": "code",
   "execution_count": 28,
   "metadata": {},
   "outputs": [],
   "source": [
    "df = df.rename(index=str,\n",
    "              columns={'↓OVA':'Overall',\n",
    "                        'A/W':'Workrate_Att',\n",
    "                        'D/W':'Workrate_Def',\n",
    "                        'SM':'Skill_moves',\n",
    "                        'W/F':'Weak_foot',\n",
    "                        'IR':'Reputation',\n",
    "                       \n",
    "                        })"
   ]
  },
  {
   "cell_type": "markdown",
   "metadata": {},
   "source": [
    "#### Looking out for Missing Values "
   ]
  },
  {
   "cell_type": "code",
   "execution_count": 29,
   "metadata": {},
   "outputs": [
    {
     "data": {
      "text/plain": [
       "Loan Date End    17966\n",
       "Hits              2595\n",
       "Name                 0\n",
       "dtype: int64"
      ]
     },
     "execution_count": 29,
     "metadata": {},
     "output_type": "execute_result"
    }
   ],
   "source": [
    "df.isna().sum().sort_values(ascending=False).head(3)"
   ]
  },
  {
   "cell_type": "markdown",
   "metadata": {},
   "source": [
    "##### Filling the missing values in \"Hits\"column with 0"
   ]
  },
  {
   "cell_type": "code",
   "execution_count": 47,
   "metadata": {},
   "outputs": [
    {
     "data": {
      "text/plain": [
       "0"
      ]
     },
     "execution_count": 47,
     "metadata": {},
     "output_type": "execute_result"
    }
   ],
   "source": [
    "df.Hits.astype(int).fillna(0, inplace=True)\n",
    "df['Hits'].isna().sum()"
   ]
  },
  {
   "cell_type": "code",
   "execution_count": 31,
   "metadata": {},
   "outputs": [],
   "source": [
    "# Removing 'K' in Hits, changing datatype to float and multiplying by 10000\n",
    "df['Hits'] = df['Hits'].str.split('K', expand=True)[0].astype(float)[69] * 1000"
   ]
  },
  {
   "cell_type": "markdown",
   "metadata": {},
   "source": [
    "##### The 'Loan Date End' Column would be left as is, as most players are not on loan"
   ]
  },
  {
   "cell_type": "markdown",
   "metadata": {},
   "source": [
    "#### Dealing with Data wrongly inputted"
   ]
  },
  {
   "cell_type": "code",
   "execution_count": 48,
   "metadata": {},
   "outputs": [],
   "source": [
    "# df.info()"
   ]
  },
  {
   "cell_type": "markdown",
   "metadata": {},
   "source": [
    "##### In the Weight column, some players weight is recorded in kg while some is in lbs\n"
   ]
  },
  {
   "cell_type": "code",
   "execution_count": 49,
   "metadata": {},
   "outputs": [
    {
     "data": {
      "text/plain": [
       "859    82\n",
       "860    78\n",
       "Name: Weight, dtype: int64"
      ]
     },
     "execution_count": 49,
     "metadata": {},
     "output_type": "execute_result"
    }
   ],
   "source": [
    "# These are the two types of Weight inputted in the data\n",
    "df['Weight'][859:861]"
   ]
  },
  {
   "cell_type": "code",
   "execution_count": 34,
   "metadata": {},
   "outputs": [],
   "source": [
    "# Function to remove suffixes from weight column, convert 'ibs' to kg and use apporporate datatype\n",
    "def weight_convert(weights):\n",
    "    if 'kg' in weights:\n",
    "        return int(weights.replace('kg',''))\n",
    "    else:\n",
    "        return round(int(weights.replace('lbs','')) / 2.205)"
   ]
  },
  {
   "cell_type": "code",
   "execution_count": 35,
   "metadata": {},
   "outputs": [],
   "source": [
    "# Applying function on Weight Column\n",
    "df['Weight'] = df['Weight'].apply(weight_convert)"
   ]
  },
  {
   "cell_type": "markdown",
   "metadata": {},
   "source": [
    "##### Similar to weight, the Height column has two seperate units (cm and feet)\n",
    "##### We are converting to cm"
   ]
  },
  {
   "cell_type": "code",
   "execution_count": 36,
   "metadata": {},
   "outputs": [
    {
     "data": {
      "text/plain": [
       "859    178cm\n",
       "860    5'11\"\n",
       "Name: Height, dtype: object"
      ]
     },
     "execution_count": 36,
     "metadata": {},
     "output_type": "execute_result"
    }
   ],
   "source": [
    "# Looking at two seperate weight units in \"Weight Column\"\n",
    "df['Height'][859:861]"
   ]
  },
  {
   "cell_type": "code",
   "execution_count": 37,
   "metadata": {},
   "outputs": [],
   "source": [
    "# Function to remove the suffix (cm), convert feet to cm and also use appoporaite datatype\n",
    "def height_to_cm(Height):\n",
    "    if 'cm' in Height:\n",
    "        return int(Height.replace('cm',''))\n",
    "    else:\n",
    "        feet, inches = Height.split('\\'')\n",
    "        inches = inches.replace('\"', '')\n",
    "        return round((int(feet)*30.48)+(int(inches)*2.54))"
   ]
  },
  {
   "cell_type": "code",
   "execution_count": 38,
   "metadata": {},
   "outputs": [],
   "source": [
    "# Applying Function on Height Column\n",
    "df['Height'] = df['Height'].apply(height_to_cm)"
   ]
  },
  {
   "cell_type": "markdown",
   "metadata": {},
   "source": [
    "##### The Club column has '\\n\\n\\n\\n' in front of every club name."
   ]
  },
  {
   "cell_type": "code",
   "execution_count": 39,
   "metadata": {},
   "outputs": [
    {
     "data": {
      "text/plain": [
       "0           \\n\\n\\n\\nFC Barcelona\n",
       "1               \\n\\n\\n\\nJuventus\n",
       "2        \\n\\n\\n\\nAtlético Madrid\n",
       "3        \\n\\n\\n\\nManchester City\n",
       "4    \\n\\n\\n\\nParis Saint-Germain\n",
       "Name: Club, dtype: object"
      ]
     },
     "execution_count": 39,
     "metadata": {},
     "output_type": "execute_result"
    }
   ],
   "source": [
    "df['Club'].head()"
   ]
  },
  {
   "cell_type": "code",
   "execution_count": 40,
   "metadata": {},
   "outputs": [
    {
     "data": {
      "text/plain": [
       "0           FC Barcelona\n",
       "1               Juventus\n",
       "2        Atlético Madrid\n",
       "3        Manchester City\n",
       "4    Paris Saint-Germain\n",
       "Name: Club, dtype: object"
      ]
     },
     "execution_count": 40,
     "metadata": {},
     "output_type": "execute_result"
    }
   ],
   "source": [
    "df['Club'] = df['Club'].str.split('\\n\\n\\n\\n', expand=True)[1]\n",
    "df['Club'].head()"
   ]
  },
  {
   "cell_type": "markdown",
   "metadata": {},
   "source": [
    "##### We have to remove the '★' in the Reputation, skill_moves and weak_foot columns"
   ]
  },
  {
   "cell_type": "code",
   "execution_count": 41,
   "metadata": {},
   "outputs": [
    {
     "data": {
      "text/html": [
       "<div>\n",
       "<style scoped>\n",
       "    .dataframe tbody tr th:only-of-type {\n",
       "        vertical-align: middle;\n",
       "    }\n",
       "\n",
       "    .dataframe tbody tr th {\n",
       "        vertical-align: top;\n",
       "    }\n",
       "\n",
       "    .dataframe thead th {\n",
       "        text-align: right;\n",
       "    }\n",
       "</style>\n",
       "<table border=\"1\" class=\"dataframe\">\n",
       "  <thead>\n",
       "    <tr style=\"text-align: right;\">\n",
       "      <th></th>\n",
       "      <th>Skill_moves</th>\n",
       "      <th>Weak_foot</th>\n",
       "      <th>Reputation</th>\n",
       "    </tr>\n",
       "  </thead>\n",
       "  <tbody>\n",
       "    <tr>\n",
       "      <th>0</th>\n",
       "      <td>4★</td>\n",
       "      <td>4 ★</td>\n",
       "      <td>5 ★</td>\n",
       "    </tr>\n",
       "    <tr>\n",
       "      <th>1</th>\n",
       "      <td>5★</td>\n",
       "      <td>4 ★</td>\n",
       "      <td>5 ★</td>\n",
       "    </tr>\n",
       "    <tr>\n",
       "      <th>2</th>\n",
       "      <td>1★</td>\n",
       "      <td>3 ★</td>\n",
       "      <td>3 ★</td>\n",
       "    </tr>\n",
       "    <tr>\n",
       "      <th>3</th>\n",
       "      <td>4★</td>\n",
       "      <td>5 ★</td>\n",
       "      <td>4 ★</td>\n",
       "    </tr>\n",
       "    <tr>\n",
       "      <th>4</th>\n",
       "      <td>5★</td>\n",
       "      <td>5 ★</td>\n",
       "      <td>5 ★</td>\n",
       "    </tr>\n",
       "  </tbody>\n",
       "</table>\n",
       "</div>"
      ],
      "text/plain": [
       "  Skill_moves Weak_foot Reputation\n",
       "0          4★       4 ★        5 ★\n",
       "1          5★       4 ★        5 ★\n",
       "2          1★       3 ★        3 ★\n",
       "3          4★       5 ★        4 ★\n",
       "4          5★       5 ★        5 ★"
      ]
     },
     "execution_count": 41,
     "metadata": {},
     "output_type": "execute_result"
    }
   ],
   "source": [
    "# Looking at the columns where the '★' is present \n",
    "df[['Skill_moves', 'Weak_foot', 'Reputation']].head()"
   ]
  },
  {
   "cell_type": "code",
   "execution_count": 42,
   "metadata": {},
   "outputs": [],
   "source": [
    "# Function to remove '★' \n",
    "def remove_star(star):\n",
    "    if '★' in star:\n",
    "        amend = int(star.replace('★',''))\n",
    "    return amend"
   ]
  },
  {
   "cell_type": "code",
   "execution_count": 51,
   "metadata": {},
   "outputs": [
    {
     "data": {
      "text/html": [
       "<div>\n",
       "<style scoped>\n",
       "    .dataframe tbody tr th:only-of-type {\n",
       "        vertical-align: middle;\n",
       "    }\n",
       "\n",
       "    .dataframe tbody tr th {\n",
       "        vertical-align: top;\n",
       "    }\n",
       "\n",
       "    .dataframe thead th {\n",
       "        text-align: right;\n",
       "    }\n",
       "</style>\n",
       "<table border=\"1\" class=\"dataframe\">\n",
       "  <thead>\n",
       "    <tr style=\"text-align: right;\">\n",
       "      <th></th>\n",
       "      <th>Skill_moves</th>\n",
       "      <th>Weak_foot</th>\n",
       "      <th>Reputation</th>\n",
       "    </tr>\n",
       "  </thead>\n",
       "  <tbody>\n",
       "    <tr>\n",
       "      <th>0</th>\n",
       "      <td>4</td>\n",
       "      <td>4</td>\n",
       "      <td>5</td>\n",
       "    </tr>\n",
       "    <tr>\n",
       "      <th>1</th>\n",
       "      <td>5</td>\n",
       "      <td>4</td>\n",
       "      <td>5</td>\n",
       "    </tr>\n",
       "    <tr>\n",
       "      <th>2</th>\n",
       "      <td>1</td>\n",
       "      <td>3</td>\n",
       "      <td>3</td>\n",
       "    </tr>\n",
       "    <tr>\n",
       "      <th>3</th>\n",
       "      <td>4</td>\n",
       "      <td>5</td>\n",
       "      <td>4</td>\n",
       "    </tr>\n",
       "    <tr>\n",
       "      <th>4</th>\n",
       "      <td>5</td>\n",
       "      <td>5</td>\n",
       "      <td>5</td>\n",
       "    </tr>\n",
       "  </tbody>\n",
       "</table>\n",
       "</div>"
      ],
      "text/plain": [
       "   Skill_moves  Weak_foot  Reputation\n",
       "0            4          4           5\n",
       "1            5          4           5\n",
       "2            1          3           3\n",
       "3            4          5           4\n",
       "4            5          5           5"
      ]
     },
     "execution_count": 51,
     "metadata": {},
     "output_type": "execute_result"
    }
   ],
   "source": [
    "# Applying fuction to columns\n",
    "df[['Skill_moves', 'Weak_foot', 'Reputation']] = df[['Skill_moves', 'Weak_foot', 'Reputation']].applymap(remove_star)\n",
    "df[['Skill_moves', 'Weak_foot', 'Reputation']].head()"
   ]
  },
  {
   "cell_type": "markdown",
   "metadata": {},
   "source": [
    "#### Properly Formatting the Currency Columns ('Value', 'Wage' and 'Release Clause')"
   ]
  },
  {
   "cell_type": "code",
   "execution_count": 44,
   "metadata": {},
   "outputs": [
    {
     "data": {
      "text/html": [
       "<div>\n",
       "<style scoped>\n",
       "    .dataframe tbody tr th:only-of-type {\n",
       "        vertical-align: middle;\n",
       "    }\n",
       "\n",
       "    .dataframe tbody tr th {\n",
       "        vertical-align: top;\n",
       "    }\n",
       "\n",
       "    .dataframe thead th {\n",
       "        text-align: right;\n",
       "    }\n",
       "</style>\n",
       "<table border=\"1\" class=\"dataframe\">\n",
       "  <thead>\n",
       "    <tr style=\"text-align: right;\">\n",
       "      <th></th>\n",
       "      <th>Value</th>\n",
       "      <th>Wage</th>\n",
       "      <th>Release Clause</th>\n",
       "    </tr>\n",
       "  </thead>\n",
       "  <tbody>\n",
       "    <tr>\n",
       "      <th>0</th>\n",
       "      <td>€103.5M</td>\n",
       "      <td>€560K</td>\n",
       "      <td>€138.4M</td>\n",
       "    </tr>\n",
       "    <tr>\n",
       "      <th>1</th>\n",
       "      <td>€63M</td>\n",
       "      <td>€220K</td>\n",
       "      <td>€75.9M</td>\n",
       "    </tr>\n",
       "    <tr>\n",
       "      <th>2</th>\n",
       "      <td>€120M</td>\n",
       "      <td>€125K</td>\n",
       "      <td>€159.4M</td>\n",
       "    </tr>\n",
       "    <tr>\n",
       "      <th>3</th>\n",
       "      <td>€129M</td>\n",
       "      <td>€370K</td>\n",
       "      <td>€161M</td>\n",
       "    </tr>\n",
       "    <tr>\n",
       "      <th>4</th>\n",
       "      <td>€132M</td>\n",
       "      <td>€270K</td>\n",
       "      <td>€166.5M</td>\n",
       "    </tr>\n",
       "  </tbody>\n",
       "</table>\n",
       "</div>"
      ],
      "text/plain": [
       "     Value   Wage Release Clause\n",
       "0  €103.5M  €560K        €138.4M\n",
       "1     €63M  €220K         €75.9M\n",
       "2    €120M  €125K        €159.4M\n",
       "3    €129M  €370K          €161M\n",
       "4    €132M  €270K        €166.5M"
      ]
     },
     "execution_count": 44,
     "metadata": {},
     "output_type": "execute_result"
    }
   ],
   "source": [
    "# The columns where \n",
    "df[['Value','Wage','Release Clause',]].head()"
   ]
  },
  {
   "cell_type": "code",
   "execution_count": 52,
   "metadata": {},
   "outputs": [],
   "source": [
    "# Creating function to convert Value, Wage and Release Clause\n",
    "def convert_currency(value):\n",
    "    if 'M' in value:\n",
    "        fix_value = float(value.replace('€', '').replace('M','')) * 1000000\n",
    "    elif 'K' in value:\n",
    "        fix_value = float(value.replace('€', '').replace('K','')) * 1000\n",
    "    else:\n",
    "        fix_value = float(value.replace('€', ''))\n",
    "    return fix_value"
   ]
  },
  {
   "cell_type": "code",
   "execution_count": 53,
   "metadata": {},
   "outputs": [],
   "source": [
    "# Applying Functions on Columns\n",
    "df[['Value','Wage','Release Clause',]] = df[['Value','Wage','Release Clause',]].applymap(convert_currency)"
   ]
  },
  {
   "cell_type": "code",
   "execution_count": 54,
   "metadata": {},
   "outputs": [
    {
     "data": {
      "text/html": [
       "<div>\n",
       "<style scoped>\n",
       "    .dataframe tbody tr th:only-of-type {\n",
       "        vertical-align: middle;\n",
       "    }\n",
       "\n",
       "    .dataframe tbody tr th {\n",
       "        vertical-align: top;\n",
       "    }\n",
       "\n",
       "    .dataframe thead th {\n",
       "        text-align: right;\n",
       "    }\n",
       "</style>\n",
       "<table border=\"1\" class=\"dataframe\">\n",
       "  <thead>\n",
       "    <tr style=\"text-align: right;\">\n",
       "      <th></th>\n",
       "      <th>Value</th>\n",
       "      <th>Wage</th>\n",
       "      <th>Release Clause</th>\n",
       "    </tr>\n",
       "  </thead>\n",
       "  <tbody>\n",
       "    <tr>\n",
       "      <th>0</th>\n",
       "      <td>103500000.0</td>\n",
       "      <td>560000.0</td>\n",
       "      <td>138400000.0</td>\n",
       "    </tr>\n",
       "    <tr>\n",
       "      <th>1</th>\n",
       "      <td>63000000.0</td>\n",
       "      <td>220000.0</td>\n",
       "      <td>75900000.0</td>\n",
       "    </tr>\n",
       "    <tr>\n",
       "      <th>2</th>\n",
       "      <td>120000000.0</td>\n",
       "      <td>125000.0</td>\n",
       "      <td>159400000.0</td>\n",
       "    </tr>\n",
       "    <tr>\n",
       "      <th>3</th>\n",
       "      <td>129000000.0</td>\n",
       "      <td>370000.0</td>\n",
       "      <td>161000000.0</td>\n",
       "    </tr>\n",
       "    <tr>\n",
       "      <th>4</th>\n",
       "      <td>132000000.0</td>\n",
       "      <td>270000.0</td>\n",
       "      <td>166500000.0</td>\n",
       "    </tr>\n",
       "  </tbody>\n",
       "</table>\n",
       "</div>"
      ],
      "text/plain": [
       "         Value      Wage  Release Clause\n",
       "0  103500000.0  560000.0     138400000.0\n",
       "1   63000000.0  220000.0      75900000.0\n",
       "2  120000000.0  125000.0     159400000.0\n",
       "3  129000000.0  370000.0     161000000.0\n",
       "4  132000000.0  270000.0     166500000.0"
      ]
     },
     "execution_count": 54,
     "metadata": {},
     "output_type": "execute_result"
    }
   ],
   "source": [
    "df[['Value','Wage','Release Clause',]].head()"
   ]
  },
  {
   "cell_type": "code",
   "execution_count": 55,
   "metadata": {},
   "outputs": [
    {
     "data": {
      "text/plain": [
       "array(['Medium', 'High', 'Low'], dtype=object)"
      ]
     },
     "execution_count": 55,
     "metadata": {},
     "output_type": "execute_result"
    }
   ],
   "source": [
    "df['Workrate_Att'].unique()"
   ]
  },
  {
   "cell_type": "code",
   "execution_count": 56,
   "metadata": {},
   "outputs": [],
   "source": [
    "df.loc[df['Workrate_Att'] == \"Low\", 'Workrate_Att'] = 1\n",
    "df.loc[df['Workrate_Att'] == \"Medium\", 'Workrate_Att'] = 2\n",
    "df.loc[df['Workrate_Att'] == \"High\", 'Workrate_Att'] = 3\n",
    "df['Workrate_Att'] = df['Workrate_Att'].astype(int)"
   ]
  },
  {
   "cell_type": "code",
   "execution_count": 57,
   "metadata": {},
   "outputs": [
    {
     "data": {
      "text/plain": [
       "array([2, 3, 1])"
      ]
     },
     "execution_count": 57,
     "metadata": {},
     "output_type": "execute_result"
    }
   ],
   "source": [
    "df['Workrate_Att'].unique()"
   ]
  },
  {
   "cell_type": "code",
   "execution_count": 58,
   "metadata": {},
   "outputs": [
    {
     "data": {
      "text/plain": [
       "array(['Low', 'Medium', 'High'], dtype=object)"
      ]
     },
     "execution_count": 58,
     "metadata": {},
     "output_type": "execute_result"
    }
   ],
   "source": [
    "df['Workrate_Def'].unique()"
   ]
  },
  {
   "cell_type": "code",
   "execution_count": 59,
   "metadata": {},
   "outputs": [],
   "source": [
    "df.loc[df['Workrate_Def'] == \"Low\", 'Workrate_Def'] = 1\n",
    "df.loc[df['Workrate_Def'] == \"Medium\", 'Workrate_Def'] = 2\n",
    "df.loc[df['Workrate_Def'] == \"High\", 'Workrate_Def'] = 3\n",
    "df['Workrate_Def'] = df['Workrate_Def'].astype(int)"
   ]
  },
  {
   "cell_type": "code",
   "execution_count": 60,
   "metadata": {},
   "outputs": [
    {
     "data": {
      "text/plain": [
       "array([2, 3, 1])"
      ]
     },
     "execution_count": 60,
     "metadata": {},
     "output_type": "execute_result"
    }
   ],
   "source": [
    "df['Workrate_Att'].unique()"
   ]
  },
  {
   "cell_type": "markdown",
   "metadata": {},
   "source": [
    "#### Properly Formatting Columns with Dates to DateTime format"
   ]
  },
  {
   "cell_type": "code",
   "execution_count": 61,
   "metadata": {},
   "outputs": [],
   "source": [
    "df['Joined'] = pd.to_datetime(df['Joined'])\n",
    "df['Loan Date End'] = pd.to_datetime(df['Loan Date End']) "
   ]
  },
  {
   "cell_type": "code",
   "execution_count": 62,
   "metadata": {},
   "outputs": [
    {
     "data": {
      "text/plain": [
       "0   2004-07-01\n",
       "1   2018-07-10\n",
       "2   2014-07-16\n",
       "3   2015-08-30\n",
       "4   2017-08-03\n",
       "Name: Joined, dtype: datetime64[ns]"
      ]
     },
     "execution_count": 62,
     "metadata": {},
     "output_type": "execute_result"
    }
   ],
   "source": [
    "df['Joined'].head()"
   ]
  },
  {
   "cell_type": "markdown",
   "metadata": {},
   "source": [
    "#### "
   ]
  },
  {
   "cell_type": "code",
   "execution_count": 63,
   "metadata": {},
   "outputs": [
    {
     "name": "stdout",
     "output_type": "stream",
     "text": [
      "<class 'pandas.core.frame.DataFrame'>\n",
      "Index: 18979 entries, 0 to 18978\n",
      "Data columns (total 77 columns):\n",
      " #   Column            Non-Null Count  Dtype         \n",
      "---  ------            --------------  -----         \n",
      " 0   ID                18979 non-null  int64         \n",
      " 1   Name              18979 non-null  object        \n",
      " 2   LongName          18979 non-null  object        \n",
      " 3   photoUrl          18979 non-null  object        \n",
      " 4   playerUrl         18979 non-null  object        \n",
      " 5   Nationality       18979 non-null  object        \n",
      " 6   Age               18979 non-null  int64         \n",
      " 7   Overall           18979 non-null  int64         \n",
      " 8   POT               18979 non-null  int64         \n",
      " 9   Club              18742 non-null  object        \n",
      " 10  Contract          18979 non-null  object        \n",
      " 11  Positions         18979 non-null  object        \n",
      " 12  Height            18979 non-null  int64         \n",
      " 13  Weight            18979 non-null  int64         \n",
      " 14  Preferred Foot    18979 non-null  object        \n",
      " 15  BOV               18979 non-null  int64         \n",
      " 16  Best Position     18979 non-null  object        \n",
      " 17  Joined            18979 non-null  datetime64[ns]\n",
      " 18  Loan Date End     1013 non-null   datetime64[ns]\n",
      " 19  Value             18979 non-null  float64       \n",
      " 20  Wage              18979 non-null  float64       \n",
      " 21  Release Clause    18979 non-null  float64       \n",
      " 22  Attacking         18979 non-null  int64         \n",
      " 23  Crossing          18979 non-null  int64         \n",
      " 24  Finishing         18979 non-null  int64         \n",
      " 25  Heading Accuracy  18979 non-null  int64         \n",
      " 26  Short Passing     18979 non-null  int64         \n",
      " 27  Volleys           18979 non-null  int64         \n",
      " 28  Skill             18979 non-null  int64         \n",
      " 29  Dribbling         18979 non-null  int64         \n",
      " 30  Curve             18979 non-null  int64         \n",
      " 31  FK Accuracy       18979 non-null  int64         \n",
      " 32  Long Passing      18979 non-null  int64         \n",
      " 33  Ball Control      18979 non-null  int64         \n",
      " 34  Movement          18979 non-null  int64         \n",
      " 35  Acceleration      18979 non-null  int64         \n",
      " 36  Sprint Speed      18979 non-null  int64         \n",
      " 37  Agility           18979 non-null  int64         \n",
      " 38  Reactions         18979 non-null  int64         \n",
      " 39  Balance           18979 non-null  int64         \n",
      " 40  Power             18979 non-null  int64         \n",
      " 41  Shot Power        18979 non-null  int64         \n",
      " 42  Jumping           18979 non-null  int64         \n",
      " 43  Stamina           18979 non-null  int64         \n",
      " 44  Strength          18979 non-null  int64         \n",
      " 45  Long Shots        18979 non-null  int64         \n",
      " 46  Mentality         18979 non-null  int64         \n",
      " 47  Aggression        18979 non-null  int64         \n",
      " 48  Interceptions     18979 non-null  int64         \n",
      " 49  Positioning       18979 non-null  int64         \n",
      " 50  Vision            18979 non-null  int64         \n",
      " 51  Penalties         18979 non-null  int64         \n",
      " 52  Composure         18979 non-null  int64         \n",
      " 53  Defending         18979 non-null  int64         \n",
      " 54  Marking           18979 non-null  int64         \n",
      " 55  Standing Tackle   18979 non-null  int64         \n",
      " 56  Sliding Tackle    18979 non-null  int64         \n",
      " 57  Goalkeeping       18979 non-null  int64         \n",
      " 58  GK Diving         18979 non-null  int64         \n",
      " 59  GK Handling       18979 non-null  int64         \n",
      " 60  GK Kicking        18979 non-null  int64         \n",
      " 61  GK Positioning    18979 non-null  int64         \n",
      " 62  GK Reflexes       18979 non-null  int64         \n",
      " 63  Total Stats       18979 non-null  int64         \n",
      " 64  Base Stats        18979 non-null  int64         \n",
      " 65  Weak_foot         18979 non-null  int64         \n",
      " 66  Skill_moves       18979 non-null  int64         \n",
      " 67  Workrate_Att      18979 non-null  int32         \n",
      " 68  Workrate_Def      18979 non-null  int32         \n",
      " 69  Reputation        18979 non-null  int64         \n",
      " 70  PAC               18979 non-null  int64         \n",
      " 71  SHO               18979 non-null  int64         \n",
      " 72  PAS               18979 non-null  int64         \n",
      " 73  DRI               18979 non-null  int64         \n",
      " 74  DEF               18979 non-null  int64         \n",
      " 75  PHY               18979 non-null  int64         \n",
      " 76  Hits              18979 non-null  float64       \n",
      "dtypes: datetime64[ns](2), float64(4), int32(2), int64(59), object(10)\n",
      "memory usage: 11.8+ MB\n"
     ]
    }
   ],
   "source": [
    "df.info()"
   ]
  },
  {
   "cell_type": "markdown",
   "metadata": {},
   "source": [
    "#### Explorting Cleaned Data to .csv"
   ]
  },
  {
   "cell_type": "code",
   "execution_count": 64,
   "metadata": {},
   "outputs": [],
   "source": [
    "df.to_csv('cleaned_fifa21_data.csv')"
   ]
  },
  {
   "cell_type": "code",
   "execution_count": null,
   "metadata": {},
   "outputs": [],
   "source": []
  }
 ],
 "metadata": {
  "kernelspec": {
   "display_name": "Python 3",
   "language": "python",
   "name": "python3"
  },
  "language_info": {
   "codemirror_mode": {
    "name": "ipython",
    "version": 3
   },
   "file_extension": ".py",
   "mimetype": "text/x-python",
   "name": "python",
   "nbconvert_exporter": "python",
   "pygments_lexer": "ipython3",
   "version": "3.7.6"
  }
 },
 "nbformat": 4,
 "nbformat_minor": 4
}
